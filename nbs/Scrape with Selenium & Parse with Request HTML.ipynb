{
 "cells": [
  {
   "cell_type": "code",
   "execution_count": 1,
   "id": "78b380b9",
   "metadata": {
    "scrolled": true
   },
   "outputs": [
    {
     "name": "stdout",
     "output_type": "stream",
     "text": [
      "C:\\Users\\hp\\dev\\web-scraping\n"
     ]
    }
   ],
   "source": [
    "cd .."
   ]
  },
  {
   "cell_type": "code",
   "execution_count": 43,
   "id": "c6e10cfc",
   "metadata": {
    "scrolled": true
   },
   "outputs": [],
   "source": [
    "from requests_html import HTML\n",
    "from slugify import slugify\n",
    "from pprint import pprint\n",
    "from app.scraper import Scraper"
   ]
  },
  {
   "cell_type": "code",
   "execution_count": 3,
   "id": "78c98af2",
   "metadata": {},
   "outputs": [],
   "source": [
    "url = \"https://www.amazon.ae/Logitech-Master-Performance-Ultra-fast-Scrolling/dp/B07W5JKHFZ/ref=sr_1_4?crid=3A6P66DD27JCB&keywords=logitech+master+mx&qid=1684041316&sprefix=logitech+master+mx%2Caps%2C287&sr=8-4\""
   ]
  },
  {
   "cell_type": "code",
   "execution_count": 4,
   "id": "a6ad9d03",
   "metadata": {
    "scrolled": true
   },
   "outputs": [],
   "source": [
    "s = Scraper(url=url, endless_scroll=True)"
   ]
  },
  {
   "cell_type": "code",
   "execution_count": 5,
   "id": "7c9af686",
   "metadata": {
    "scrolled": true
   },
   "outputs": [],
   "source": [
    "html_str = s.get()"
   ]
  },
  {
   "cell_type": "code",
   "execution_count": 6,
   "id": "6cab7364",
   "metadata": {},
   "outputs": [],
   "source": [
    "html_obj = HTML(html=html_str)"
   ]
  },
  {
   "cell_type": "code",
   "execution_count": 7,
   "id": "6afcd572",
   "metadata": {},
   "outputs": [
    {
     "data": {
      "text/plain": [
       "[<Element 'table' class=('a-normal', 'a-spacing-none', 'reInventPriceTable')>,\n",
       " <Element 'table' class=('a-normal', 'a-spacing-none', 'reInventPriceTable')>,\n",
       " <Element 'table' class=('a-keyvalue',)>,\n",
       " <Element 'table' class=('a-keyvalue',)>,\n",
       " <Element 'table' class=('a-normal', 'a-spacing-micro')>,\n",
       " <Element 'table' id='productDetails_techSpec_section_1' class=('a-keyvalue', 'prodDetTable') role='presentation'>,\n",
       " <Element 'table' id='productDetails_detailBullets_sections1' class=('a-keyvalue', 'prodDetTable') role='presentation'>,\n",
       " <Element 'table' id='productDetails_warranty_support_sections' class=('a-keyvalue', 'prodDetTable') role='presentation'>,\n",
       " <Element 'table' id='histogramTable' class=('a-normal', 'a-spacing-none') role='presentation'>,\n",
       " <Element 'table' id='histogramTable' class=('a-normal', 'a-align-center', 'a-spacing-base')>,\n",
       " <Element 'table' class=('navFooterMoreOnAmazon',) cellspacing='0' summary='More on Amazon'>]"
      ]
     },
     "execution_count": 7,
     "metadata": {},
     "output_type": "execute_result"
    }
   ],
   "source": [
    "html_obj.find(\"table\")"
   ]
  },
  {
   "cell_type": "code",
   "execution_count": 12,
   "id": "f0e72883",
   "metadata": {},
   "outputs": [
    {
     "data": {
      "text/plain": [
       "'AED400.00'"
      ]
     },
     "execution_count": 12,
     "metadata": {},
     "output_type": "execute_result"
    }
   ],
   "source": [
    "price_class_or_id_selector = \".a-offscreen\"\n",
    "price_str = html_obj.find(price_class_or_id_selector, first=True).text\n",
    "price_str"
   ]
  },
  {
   "cell_type": "code",
   "execution_count": 14,
   "id": "bea704e7",
   "metadata": {},
   "outputs": [
    {
     "data": {
      "text/plain": [
       "'Logitech MX Master 3S - Wireless Performance Mouse with Ultra-fast Scrolling, Ergo, 8K DPI, Track on Glass, Quiet Clicks, USB-C, Bluetooth, Windows, Linux, Chrome - Graphite'"
      ]
     },
     "execution_count": 14,
     "metadata": {},
     "output_type": "execute_result"
    }
   ],
   "source": [
    "title_class_or_id_selector = \"#productTitle\"\n",
    "title_str = html_obj.find(title_class_or_id_selector, first=True).text\n",
    "title_str"
   ]
  },
  {
   "cell_type": "code",
   "execution_count": 20,
   "id": "d3d65931",
   "metadata": {},
   "outputs": [
    {
     "data": {
      "text/plain": [
       "[<Element 'table' class=('a-normal', 'a-spacing-none', 'reInventPriceTable')>,\n",
       " <Element 'table' class=('a-normal', 'a-spacing-none', 'reInventPriceTable')>,\n",
       " <Element 'table' class=('a-keyvalue',)>,\n",
       " <Element 'table' class=('a-keyvalue',)>,\n",
       " <Element 'table' class=('a-normal', 'a-spacing-micro')>,\n",
       " <Element 'table' id='productDetails_techSpec_section_1' class=('a-keyvalue', 'prodDetTable') role='presentation'>,\n",
       " <Element 'table' id='productDetails_detailBullets_sections1' class=('a-keyvalue', 'prodDetTable') role='presentation'>,\n",
       " <Element 'table' id='productDetails_warranty_support_sections' class=('a-keyvalue', 'prodDetTable') role='presentation'>,\n",
       " <Element 'table' id='histogramTable' class=('a-normal', 'a-spacing-none') role='presentation'>,\n",
       " <Element 'table' id='histogramTable' class=('a-normal', 'a-align-center', 'a-spacing-base')>,\n",
       " <Element 'table' class=('navFooterMoreOnAmazon',) cellspacing='0' summary='More on Amazon'>]"
      ]
     },
     "execution_count": 20,
     "metadata": {},
     "output_type": "execute_result"
    }
   ],
   "source": [
    "table_class_or_id_selector = \".prodDetAttrValue\"\n",
    "tables = html_obj.find(\"table\")\n",
    "tables"
   ]
  },
  {
   "cell_type": "code",
   "execution_count": 45,
   "id": "faf3eb95",
   "metadata": {},
   "outputs": [
    {
     "name": "stdout",
     "output_type": "stream",
     "text": [
      "{'are-batteries-included': '\\u200eYes',\n",
      " 'asin': 'B07W5JKHFZ',\n",
      " 'average-battery-life-in-hours': '\\u200e18 \\tmonths',\n",
      " 'batteries': '\\u200e1 Lithium Polymer batteries required. (included)',\n",
      " 'best-sellers-rank': '#266 in Computers (See Top 100 in Computers)  #12 in '\n",
      "                      'Computer Mice',\n",
      " 'brand': 'Logitech',\n",
      " 'color': '\\u200eGraphite',\n",
      " 'colour': 'Graphite',\n",
      " 'connectivity-technology': 'Bluetooth, Logi Bolt, USB',\n",
      " 'customer-reviews': '/* \\n'\n",
      "                     '    * Fix for UDP-1061. Average customer reviews has a '\n",
      "                     'small extra line on hover \\n'\n",
      "                     '    * '\n",
      "                     'https://omni-grok.amazon.com/xref/src/appgroup/websiteTemplates/retail/SoftlinesDetailPageAssets/udp-intl-lock/src/legacy.css?indexName=WebsiteTemplates#40\\n'\n",
      "                     '    */\\n'\n",
      "                     '    .noUnderline a:hover { \\n'\n",
      "                     '        text-decoration: none; \\n'\n",
      "                     '    }\\n'\n",
      "                     '\\n'\n",
      "                     '    .cm-cr-review-stars-spacing-big {\\n'\n",
      "                     '        margin-top: 1px;\\n'\n",
      "                     '    }\\n'\n",
      "                     '\\n'\n",
      "                     '\\n'\n",
      "                     ' \\n'\n",
      "                     '  4.6 out of 5 stars    \\n'\n",
      "                     '    3,599 ratings   \\n'\n",
      "                     \"                    P.when('A', \"\n",
      "                     \"'ready').execute(function(A) {\\n\"\n",
      "                     '                        '\n",
      "                     \"A.declarative('acrLink-click-metrics', 'click', { \"\n",
      "                     '\"allowLinkDefault\" : true }, function(event){\\n'\n",
      "                     '                            if(window.ue) {\\n'\n",
      "                     '                                '\n",
      "                     'ue.count(\"acrLinkClickCount\", '\n",
      "                     '(ue.count(\"acrLinkClickCount\") || 0) + 1);\\n'\n",
      "                     '                            }\\n'\n",
      "                     '                        });\\n'\n",
      "                     '                    });\\n'\n",
      "                     '                \\n'\n",
      "                     '\\n'\n",
      "                     \"            P.when('A', 'cf').execute(function(A) {\\n\"\n",
      "                     '                '\n",
      "                     \"A.declarative('acrStarsLink-click-metrics', 'click', { \"\n",
      "                     '\"allowLinkDefault\" : true },  function(event){\\n'\n",
      "                     '                    if(window.ue) {\\n'\n",
      "                     '                        '\n",
      "                     'ue.count(\"acrStarsLinkWithPopoverClickCount\", '\n",
      "                     '(ue.count(\"acrStarsLinkWithPopoverClickCount\") || 0) + '\n",
      "                     '1);\\n'\n",
      "                     '                    }\\n'\n",
      "                     '                });\\n'\n",
      "                     '            });\\n'\n",
      "                     '        \\n'\n",
      "                     '\\n'\n",
      "                     ' 4.6 out of 5 stars',\n",
      " 'date-first-available': '24 May 2022',\n",
      " 'hardware-platform': '\\u200ePC, IPad on iPadOS 14 or later, Mac',\n",
      " 'item-model-number': '\\u200e910-006559',\n",
      " 'item-weight': '\\u200e308 g',\n",
      " 'lithium-battery-energy-content': '\\u200e1.85 Watt Hours',\n",
      " 'lithium-battery-packaging': '\\u200eBatteries contained in equipment',\n",
      " 'manufacturer': '\\u200eLogitech',\n",
      " 'movement-detection-technology': 'Laser',\n",
      " 'number-of-lithium-ion-cells': '\\u200e1',\n",
      " 'operating-system': '\\u200eWindows® 10, 11 or later, Linux, IPadOS 14 or '\n",
      "                     'later, Android 8.0 or later, MacOS 10.15 or later',\n",
      " 'product-dimensions': '\\u200e12.49 x 5.1 x 8.43 cm; 308 Grams',\n",
      " 'series': '\\u200eLogitech MX Master 3S Performance Wireless Mouse',\n",
      " 'special-features': 'Ergonomic Design'}\n"
     ]
    }
   ],
   "source": [
    "dataset = {}\n",
    "for table in tables:\n",
    "    for tbody in table.element.getchildren():\n",
    "        for tr in tbody.getchildren():\n",
    "            row = []\n",
    "            for col in tr.getchildren():\n",
    "                content = \"\"\n",
    "                try:\n",
    "                    content = col.text_content()\n",
    "                except Exception:\n",
    "                    pass\n",
    "                \n",
    "                if content != \"\":\n",
    "                    _content = content.strip()\n",
    "                    row.append(_content)\n",
    "                \n",
    "            if len(row) != 2:\n",
    "                continue\n",
    "                \n",
    "            key = row[0]\n",
    "            value = row[1]\n",
    "            # print(key, value)\n",
    "            \n",
    "            data = {}\n",
    "            key = slugify(key)\n",
    "            if key in dataset:\n",
    "                continue\n",
    "            else:\n",
    "                dataset[key] = value\n",
    "\n",
    "pprint(dataset)"
   ]
  },
  {
   "cell_type": "code",
   "execution_count": null,
   "id": "116718cf",
   "metadata": {},
   "outputs": [],
   "source": []
  }
 ],
 "metadata": {
  "kernelspec": {
   "display_name": "Python 3 (ipykernel)",
   "language": "python",
   "name": "python3"
  },
  "language_info": {
   "codemirror_mode": {
    "name": "ipython",
    "version": 3
   },
   "file_extension": ".py",
   "mimetype": "text/x-python",
   "name": "python",
   "nbconvert_exporter": "python",
   "pygments_lexer": "ipython3",
   "version": "3.11.1"
  }
 },
 "nbformat": 4,
 "nbformat_minor": 5
}
