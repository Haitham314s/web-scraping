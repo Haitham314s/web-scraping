{
 "cells": [
  {
   "cell_type": "code",
   "execution_count": 1,
   "id": "3e458652",
   "metadata": {
    "scrolled": true
   },
   "outputs": [
    {
     "name": "stdout",
     "output_type": "stream",
     "text": [
      "C:\\Users\\hp\\dev\\web-scraping\n"
     ]
    }
   ],
   "source": [
    "cd ../"
   ]
  },
  {
   "cell_type": "code",
   "execution_count": 16,
   "id": "7be18859",
   "metadata": {
    "scrolled": true
   },
   "outputs": [],
   "source": [
    "from app.models import Product, ProductScrapeEvent\n",
    "from app.crud import create_entry, create_scrape_entry, add_scrape_event\n",
    "from app.db import get_session"
   ]
  },
  {
   "cell_type": "code",
   "execution_count": 17,
   "id": "8de53e47",
   "metadata": {},
   "outputs": [],
   "source": [
    "session = get_session()"
   ]
  },
  {
   "cell_type": "code",
   "execution_count": 3,
   "id": "219a2eaf",
   "metadata": {},
   "outputs": [
    {
     "data": {
      "text/plain": [
       "{'asin': 'AMZNNUMBER', 'title': 'Mark 1'}"
      ]
     },
     "execution_count": 3,
     "metadata": {},
     "output_type": "execute_result"
    }
   ],
   "source": [
    "data = models.data\n",
    "data"
   ]
  },
  {
   "cell_type": "code",
   "execution_count": 4,
   "id": "8b767f3f",
   "metadata": {},
   "outputs": [
    {
     "data": {
      "text/plain": [
       "(Product(asin='AMZNNUMBER', title='Mark 1', price_str='0'),\n",
       " ProductScrapeEvent(uuid=UUID('ec0ab398-f07b-11ed-857b-c46516f58b27'), asin='AMZNNUMBER', title='Mark 1', price_str='0'))"
      ]
     },
     "execution_count": 4,
     "metadata": {},
     "output_type": "execute_result"
    }
   ],
   "source": [
    "add_scrape_event(data, fresh=True)"
   ]
  },
  {
   "cell_type": "code",
   "execution_count": 5,
   "id": "7ac3d803",
   "metadata": {},
   "outputs": [
    {
     "data": {
      "text/plain": [
       "{'asin': 'AMZNNUMBER', 'title': 'Mark 1'}"
      ]
     },
     "execution_count": 5,
     "metadata": {},
     "output_type": "execute_result"
    }
   ],
   "source": [
    "data"
   ]
  },
  {
   "cell_type": "code",
   "execution_count": 8,
   "id": "d9cd627c",
   "metadata": {},
   "outputs": [
    {
     "name": "stdout",
     "output_type": "stream",
     "text": [
      "AMZNNUMBER\n"
     ]
    }
   ],
   "source": [
    "asin = None\n",
    "for obj in models.Product.objects().all():\n",
    "    asin = obj.asin\n",
    "    print(obj.asin)"
   ]
  },
  {
   "cell_type": "code",
   "execution_count": 12,
   "id": "3332d89d",
   "metadata": {},
   "outputs": [
    {
     "name": "stdout",
     "output_type": "stream",
     "text": [
      "Scrape event for id: AMZNNUMBER: 0 AMZNNUMBER ec0ab398-f07b-11ed-857b-c46516f58b27\n"
     ]
    }
   ],
   "source": [
    "if asin is not None:\n",
    "    print(f\"Scrape event for id: {asin}:\", end=\" \")\n",
    "    for i, obj in enumerate(ProductScrapeEvent.objects.filter(asin=asin)):\n",
    "        print(i, obj.asin, obj.uuid)"
   ]
  },
  {
   "cell_type": "code",
   "execution_count": 19,
   "id": "59b915a4",
   "metadata": {},
   "outputs": [
    {
     "name": "stdout",
     "output_type": "stream",
     "text": [
      "{'asin': 'AMZNNUMBER', 'price_str': '0', 'title': 'Mark 1'}\n"
     ]
    }
   ],
   "source": [
    "for row in session.execute(\"SELECT * FROM scraper_app.product LIMIT 10000\"):\n",
    "    print(row)"
   ]
  },
  {
   "cell_type": "code",
   "execution_count": null,
   "id": "6c0cf5fa",
   "metadata": {},
   "outputs": [],
   "source": [
    "session.execute(\"\")"
   ]
  }
 ],
 "metadata": {
  "kernelspec": {
   "display_name": "Python 3 (ipykernel)",
   "language": "python",
   "name": "python3"
  },
  "language_info": {
   "codemirror_mode": {
    "name": "ipython",
    "version": 3
   },
   "file_extension": ".py",
   "mimetype": "text/x-python",
   "name": "python",
   "nbconvert_exporter": "python",
   "pygments_lexer": "ipython3",
   "version": "3.11.1"
  }
 },
 "nbformat": 4,
 "nbformat_minor": 5
}
