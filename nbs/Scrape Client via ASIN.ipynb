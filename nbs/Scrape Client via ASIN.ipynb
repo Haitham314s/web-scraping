{
 "cells": [
  {
   "cell_type": "code",
   "execution_count": 1,
   "id": "78b380b9",
   "metadata": {
    "scrolled": false
   },
   "outputs": [
    {
     "name": "stdout",
     "output_type": "stream",
     "text": [
      "C:\\Users\\hp\\dev\\web-scraping\n"
     ]
    }
   ],
   "source": [
    "cd .."
   ]
  },
  {
   "cell_type": "code",
   "execution_count": 2,
   "id": "c6e10cfc",
   "metadata": {
    "scrolled": true
   },
   "outputs": [],
   "source": [
    "from requests_html import HTML\n",
    "from slugify import slugify\n",
    "from pprint import pprint\n",
    "import re\n",
    "from app.scraper import Scraper"
   ]
  },
  {
   "cell_type": "code",
   "execution_count": 3,
   "id": "78c98af2",
   "metadata": {},
   "outputs": [],
   "source": [
    "url = \"https://www.amazon.ae/Logitech-Master-Performance-Ultra-fast-Scrolling/dp/B07W5JKHFZ/ref=sr_1_4?crid=3A6P66DD27JCB&keywords=logitech+master+mx&qid=1684041316&sprefix=logitech+master+mx%2Caps%2C287&sr=8-4\"\n",
    "\n",
    "asin = \"B07W5JKHFZ\"\n",
    "url = f\"https://amazon.ae/dp/{asin}\""
   ]
  },
  {
   "cell_type": "code",
   "execution_count": 4,
   "id": "a6ad9d03",
   "metadata": {
    "scrolled": true
   },
   "outputs": [],
   "source": [
    "s = Scraper(url=url, endless_scroll=True)"
   ]
  },
  {
   "cell_type": "code",
   "execution_count": 5,
   "id": "7c9af686",
   "metadata": {
    "scrolled": true
   },
   "outputs": [],
   "source": [
    "dataset = s.scrape()"
   ]
  },
  {
   "cell_type": "code",
   "execution_count": 6,
   "id": "643fec68",
   "metadata": {},
   "outputs": [
    {
     "data": {
      "text/plain": [
       "{'price_str': '', 'title_str': ''}"
      ]
     },
     "execution_count": 6,
     "metadata": {},
     "output_type": "execute_result"
    }
   ],
   "source": [
    "dataset"
   ]
  },
  {
   "cell_type": "code",
   "execution_count": null,
   "id": "6c6061dd",
   "metadata": {},
   "outputs": [],
   "source": []
  }
 ],
 "metadata": {
  "kernelspec": {
   "display_name": "Python 3 (ipykernel)",
   "language": "python",
   "name": "python3"
  },
  "language_info": {
   "codemirror_mode": {
    "name": "ipython",
    "version": 3
   },
   "file_extension": ".py",
   "mimetype": "text/x-python",
   "name": "python",
   "nbconvert_exporter": "python",
   "pygments_lexer": "ipython3",
   "version": "3.11.1"
  }
 },
 "nbformat": 4,
 "nbformat_minor": 5
}
