{
 "cells": [
  {
   "cell_type": "code",
   "execution_count": 1,
   "id": "3e458652",
   "metadata": {
    "scrolled": false
   },
   "outputs": [
    {
     "name": "stdout",
     "output_type": "stream",
     "text": [
      "C:\\Users\\hp\\dev\\web-scraping\n"
     ]
    }
   ],
   "source": [
    "cd ../"
   ]
  },
  {
   "cell_type": "code",
   "execution_count": 2,
   "id": "7be18859",
   "metadata": {
    "scrolled": true
   },
   "outputs": [],
   "source": [
    "from app.worker import random_task"
   ]
  },
  {
   "cell_type": "code",
   "execution_count": 3,
   "id": "6ce87e93",
   "metadata": {},
   "outputs": [
    {
     "name": "stdout",
     "output_type": "stream",
     "text": [
      "Who throws a shoe? Like honestly Justin\n"
     ]
    }
   ],
   "source": [
    "random_task(\"Justin\")"
   ]
  },
  {
   "cell_type": "code",
   "execution_count": 4,
   "id": "93ca3bd0",
   "metadata": {},
   "outputs": [
    {
     "data": {
      "text/plain": [
       "<AsyncResult: d727fe6e-589f-49b8-bbf8-24f08ad93b00>"
      ]
     },
     "execution_count": 4,
     "metadata": {},
     "output_type": "execute_result"
    }
   ],
   "source": [
    "random_task.delay(\"Justin\")"
   ]
  },
  {
   "cell_type": "code",
   "execution_count": 5,
   "id": "7b9a70ea",
   "metadata": {},
   "outputs": [],
   "source": [
    "for i in range(10):\n",
    "    random_task.delay(f\"{i} - Justin\")"
   ]
  },
  {
   "cell_type": "code",
   "execution_count": 7,
   "id": "faa6e51b",
   "metadata": {},
   "outputs": [],
   "source": [
    "for i in range(10):\n",
    "    random_task.apply_async(args=(f\"{i} - Justin\", ), countdown=10)"
   ]
  },
  {
   "cell_type": "code",
   "execution_count": null,
   "id": "9f0ba0e1",
   "metadata": {},
   "outputs": [],
   "source": []
  }
 ],
 "metadata": {
  "kernelspec": {
   "display_name": "Python 3 (ipykernel)",
   "language": "python",
   "name": "python3"
  },
  "language_info": {
   "codemirror_mode": {
    "name": "ipython",
    "version": 3
   },
   "file_extension": ".py",
   "mimetype": "text/x-python",
   "name": "python",
   "nbconvert_exporter": "python",
   "pygments_lexer": "ipython3",
   "version": "3.11.1"
  }
 },
 "nbformat": 4,
 "nbformat_minor": 5
}
