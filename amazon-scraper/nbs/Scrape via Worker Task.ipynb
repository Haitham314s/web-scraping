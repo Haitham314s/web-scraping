{
 "cells": [
  {
   "cell_type": "code",
   "execution_count": null,
   "id": "78b380b9",
   "metadata": {
    "scrolled": false
   },
   "outputs": [],
   "source": [
    "cd .."
   ]
  },
  {
   "cell_type": "code",
   "execution_count": null,
   "id": "c6e10cfc",
   "metadata": {
    "scrolled": true
   },
   "outputs": [],
   "source": [
    "from requests_html import HTML\n",
    "from slugify import slugify\n",
    "from pprint import pprint\n",
    "import re\n",
    "from app.worker import scrape_asin\n",
    "from app.db import get_session"
   ]
  },
  {
   "cell_type": "code",
   "execution_count": null,
   "id": "fdef7086",
   "metadata": {},
   "outputs": [],
   "source": [
    "session = get_session()"
   ]
  },
  {
   "cell_type": "code",
   "execution_count": null,
   "id": "78c98af2",
   "metadata": {},
   "outputs": [],
   "source": [
    "asin = \"B07W5JKHFZ\"\n",
    "worker.scrape_asin.delay(asin)"
   ]
  },
  {
   "cell_type": "code",
   "execution_count": null,
   "id": "6c6061dd",
   "metadata": {},
   "outputs": [],
   "source": [
    "asin = \"B07W5JKHFZASFAD21SDA\"\n",
    "worker.scrape_asin.delay(asin)"
   ]
  },
  {
   "cell_type": "code",
   "execution_count": null,
   "id": "360ad912",
   "metadata": {},
   "outputs": [],
   "source": [
    "asin = \"B07W5JKHFZASFAD21SDA\"\n",
    "worker.scrape_asin.delay(asin)"
   ]
  }
 ],
 "metadata": {
  "kernelspec": {
   "display_name": "Python 3 (ipykernel)",
   "language": "python",
   "name": "python3"
  },
  "language_info": {
   "codemirror_mode": {
    "name": "ipython",
    "version": 3
   },
   "file_extension": ".py",
   "mimetype": "text/x-python",
   "name": "python",
   "nbconvert_exporter": "python",
   "pygments_lexer": "ipython3",
   "version": "3.11.1"
  }
 },
 "nbformat": 4,
 "nbformat_minor": 5
}
