{
 "cells": [
  {
   "cell_type": "code",
   "execution_count": 1,
   "id": "78b380b9",
   "metadata": {},
   "outputs": [
    {
     "name": "stdout",
     "output_type": "stream",
     "text": [
      "C:\\Users\\hp\\dev\\web-scraping\\amazon-scraper\n"
     ]
    }
   ],
   "source": [
    "cd .."
   ]
  },
  {
   "cell_type": "code",
   "execution_count": 2,
   "id": "c6e10cfc",
   "metadata": {
    "scrolled": true
   },
   "outputs": [],
   "source": [
    "from requests_html import HTML\n",
    "from slugify import slugify\n",
    "from pprint import pprint\n",
    "import re\n",
    "from app.worker import scrape_asin\n",
    "from app.db import get_session"
   ]
  },
  {
   "cell_type": "code",
   "execution_count": 3,
   "id": "fdef7086",
   "metadata": {},
   "outputs": [],
   "source": [
    "session = get_session()"
   ]
  },
  {
   "cell_type": "code",
   "execution_count": 5,
   "id": "78c98af2",
   "metadata": {},
   "outputs": [
    {
     "data": {
      "text/plain": [
       "<AsyncResult: ea787af3-a805-44fa-a6e8-11766a2c72d0>"
      ]
     },
     "execution_count": 5,
     "metadata": {},
     "output_type": "execute_result"
    }
   ],
   "source": [
    "asin = \"B08NHHX7RT\"\n",
    "scrape_asin.delay(asin)"
   ]
  },
  {
   "cell_type": "code",
   "execution_count": 6,
   "id": "6c6061dd",
   "metadata": {},
   "outputs": [
    {
     "data": {
      "text/plain": [
       "<AsyncResult: 25841b93-2d49-42b6-80ad-6884ddbb5d81>"
      ]
     },
     "execution_count": 6,
     "metadata": {},
     "output_type": "execute_result"
    }
   ],
   "source": [
    "asin = \"B07NYTMHQS\"\n",
    "scrape_asin.delay(asin)"
   ]
  },
  {
   "cell_type": "code",
   "execution_count": 18,
   "id": "360ad912",
   "metadata": {},
   "outputs": [
    {
     "data": {
      "text/plain": [
       "<AsyncResult: 707924a2-62f6-49eb-a7a3-c8ed70d88cfa>"
      ]
     },
     "execution_count": 18,
     "metadata": {},
     "output_type": "execute_result"
    }
   ],
   "source": [
    "asin = \"B0BRBGLNSV\"\n",
    "scrape_asin.delay(asin)"
   ]
  },
  {
   "cell_type": "code",
   "execution_count": null,
   "id": "4b696c54-4d83-42f5-80fe-0c864773adc0",
   "metadata": {},
   "outputs": [],
   "source": []
  }
 ],
 "metadata": {
  "kernelspec": {
   "display_name": "Python 3 (ipykernel)",
   "language": "python",
   "name": "python3"
  },
  "language_info": {
   "codemirror_mode": {
    "name": "ipython",
    "version": 3
   },
   "file_extension": ".py",
   "mimetype": "text/x-python",
   "name": "python",
   "nbconvert_exporter": "python",
   "pygments_lexer": "ipython3",
   "version": "3.11.6"
  },
  "widgets": {
   "application/vnd.jupyter.widget-state+json": {
    "state": {},
    "version_major": 2,
    "version_minor": 0
   }
  }
 },
 "nbformat": 4,
 "nbformat_minor": 5
}
