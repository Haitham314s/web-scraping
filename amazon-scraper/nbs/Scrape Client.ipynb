{
 "cells": [
  {
   "cell_type": "code",
   "execution_count": 1,
   "id": "78b380b9",
   "metadata": {},
   "outputs": [
    {
     "name": "stdout",
     "output_type": "stream",
     "text": [
      "C:\\Users\\hp\\dev\\web-scraping\n"
     ]
    }
   ],
   "source": [
    "cd .."
   ]
  },
  {
   "cell_type": "code",
   "execution_count": 2,
   "id": "c6e10cfc",
   "metadata": {
    "scrolled": true
   },
   "outputs": [],
   "source": [
    "from requests_html import HTML\n",
    "from slugify import slugify\n",
    "from pprint import pprint\n",
    "import re\n",
    "from app.scraper import Scraper"
   ]
  },
  {
   "cell_type": "code",
   "execution_count": 3,
   "id": "78c98af2",
   "metadata": {},
   "outputs": [],
   "source": [
    "url = \"https://www.amazon.ae/Logitech-Master-Performance-Ultra-fast-Scrolling/dp/B07W5JKHFZ/ref=sr_1_4?crid=3A6P66DD27JCB&keywords=logitech+master+mx&qid=1684041316&sprefix=logitech+master+mx%2Caps%2C287&sr=8-4\""
   ]
  },
  {
   "cell_type": "code",
   "execution_count": 4,
   "id": "a6ad9d03",
   "metadata": {
    "scrolled": true
   },
   "outputs": [],
   "source": [
    "s = Scraper(url=url, endless_scroll=True)"
   ]
  },
  {
   "cell_type": "code",
   "execution_count": 5,
   "id": "7c9af686",
   "metadata": {
    "scrolled": true
   },
   "outputs": [],
   "source": [
    "dataset = s.scrape()"
   ]
  },
  {
   "cell_type": "code",
   "execution_count": 6,
   "id": "643fec68",
   "metadata": {},
   "outputs": [
    {
     "data": {
      "text/plain": [
       "{'price_str': 'AED400.00',\n",
       " 'title_str': 'Logitech MX Master 3S - Wireless Performance Mouse with Ultra-fast Scrolling, Ergo, 8K DPI, Track on Glass, Quiet Clicks, USB-C, Bluetooth, Windows, Linux, Chrome - Graphite',\n",
       " 'brand': 'Logitech',\n",
       " 'colour': 'Graphite',\n",
       " 'connectivity-technology': 'Bluetooth, Logi Bolt, USB',\n",
       " 'special-features': 'Ergonomic Design',\n",
       " 'movement-detection-technology': 'Laser',\n",
       " 'product-dimensions': '\\u200e12.49 x 5.1 x 8.43 cm; 308 Grams',\n",
       " 'batteries': '\\u200e1 Lithium Polymer batteries required. (included)',\n",
       " 'item-model-number': '\\u200e910-006559',\n",
       " 'manufacturer': '\\u200eLogitech',\n",
       " 'series': '\\u200eLogitech MX Master 3S Performance Wireless Mouse',\n",
       " 'color': '\\u200eGraphite',\n",
       " 'hardware-platform': '\\u200ePC, Mac, iPad on iPadOS 14 or later',\n",
       " 'operating-system': '\\u200eiPadOS 14 or later, Windows® 10, 11 or later, Linux, macOS 10.15 or later, Android 8.0 or later',\n",
       " 'average-battery-life-in-hours': '\\u200e18 \\tmonths',\n",
       " 'are-batteries-included': '\\u200eYes',\n",
       " 'lithium-battery-energy-content': '\\u200e1.85 Watt Hours',\n",
       " 'lithium-battery-packaging': '\\u200eBatteries contained in equipment',\n",
       " 'number-of-lithium-ion-cells': '\\u200e1',\n",
       " 'item-weight': '\\u200e308 g',\n",
       " 'asin': 'B07W5JKHFZ',\n",
       " 'customer-reviews': '/* \\n    * Fix for UDP-1061. Average customer reviews has a small extra line on hover \\n    * https://omni-grok.amazon.com/xref/src/appgroup/websiteTemplates/retail/SoftlinesDetailPageAssets/udp-intl-lock/src/legacy.css?indexName=WebsiteTemplates#40\\n    */\\n    .noUnderline a:hover { \\n        text-decoration: none; \\n    }\\n\\n    .cm-cr-review-stars-spacing-big {\\n        margin-top: 1px;\\n    }\\n\\n\\n \\n  4.6 out of 5 stars    \\n    3,599 ratings   \\n                    P.when(\\'A\\', \\'ready\\').execute(function(A) {\\n                        A.declarative(\\'acrLink-click-metrics\\', \\'click\\', { \"allowLinkDefault\" : true }, function(event){\\n                            if(window.ue) {\\n                                ue.count(\"acrLinkClickCount\", (ue.count(\"acrLinkClickCount\") || 0) + 1);\\n                            }\\n                        });\\n                    });\\n                \\n\\n            P.when(\\'A\\', \\'cf\\').execute(function(A) {\\n                A.declarative(\\'acrStarsLink-click-metrics\\', \\'click\\', { \"allowLinkDefault\" : true },  function(event){\\n                    if(window.ue) {\\n                        ue.count(\"acrStarsLinkWithPopoverClickCount\", (ue.count(\"acrStarsLinkWithPopoverClickCount\") || 0) + 1);\\n                    }\\n                });\\n            });\\n        \\n\\n 4.6 out of 5 stars',\n",
       " 'best-sellers-rank': '#266 in Computers (See Top 100 in Computers)  #12 in Computer Mice',\n",
       " 'date-first-available': '24 May 2022'}"
      ]
     },
     "execution_count": 6,
     "metadata": {},
     "output_type": "execute_result"
    }
   ],
   "source": [
    "dataset"
   ]
  },
  {
   "cell_type": "code",
   "execution_count": null,
   "id": "6c6061dd",
   "metadata": {},
   "outputs": [],
   "source": []
  }
 ],
 "metadata": {
  "kernelspec": {
   "display_name": "Python 3 (ipykernel)",
   "language": "python",
   "name": "python3"
  },
  "language_info": {
   "codemirror_mode": {
    "name": "ipython",
    "version": 3
   },
   "file_extension": ".py",
   "mimetype": "text/x-python",
   "name": "python",
   "nbconvert_exporter": "python",
   "pygments_lexer": "ipython3",
   "version": "3.11.6"
  },
  "widgets": {
   "application/vnd.jupyter.widget-state+json": {
    "state": {},
    "version_major": 2,
    "version_minor": 0
   }
  }
 },
 "nbformat": 4,
 "nbformat_minor": 5
}
