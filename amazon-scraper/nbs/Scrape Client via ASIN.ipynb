{
 "cells": [
  {
   "cell_type": "code",
   "execution_count": 6,
   "id": "78b380b9",
   "metadata": {},
   "outputs": [
    {
     "name": "stdout",
     "output_type": "stream",
     "text": [
      "C:\\Users\\hp\\dev\\web-scraping\n"
     ]
    }
   ],
   "source": [
    "cd .."
   ]
  },
  {
   "cell_type": "code",
   "execution_count": 7,
   "id": "c6e10cfc",
   "metadata": {
    "scrolled": true
   },
   "outputs": [],
   "source": [
    "from requests_html import HTML\n",
    "from slugify import slugify\n",
    "from pprint import pprint\n",
    "import re\n",
    "from app.scraper import Scraper"
   ]
  },
  {
   "cell_type": "code",
   "execution_count": 8,
   "id": "78c98af2",
   "metadata": {},
   "outputs": [],
   "source": [
    "asin = \"B0B3BW8VTS\"\n",
    "url = f\"https://amazon.ae/dp/{asin}\""
   ]
  },
  {
   "cell_type": "code",
   "execution_count": 9,
   "id": "a6ad9d03",
   "metadata": {
    "scrolled": true
   },
   "outputs": [],
   "source": [
    "s = Scraper(asin=asin, endless_scroll=True)"
   ]
  },
  {
   "cell_type": "code",
   "execution_count": 10,
   "id": "7c9af686",
   "metadata": {
    "scrolled": true
   },
   "outputs": [
    {
     "data": {
      "text/plain": [
       "{'price_str': 'AED4,899.00',\n",
       " 'title_str': 'Apple 2022 MacBook Pro laptop with M2 chip: 13-inch Retina display, 8GB RAM, 256GB SSD storage, FaceTime HD camera. Works with iPhone and iPad; Space Grey ; Arabic/English',\n",
       " 'display': '13.3-inch (diagonal) LED-backlit display with IPS technology; 2560-by-1600 native resolution at 227 pixels per inch with support for millions of colors, 16:10 aspect ratio',\n",
       " 'processor': 'System on Chip (SoC),Apple M2 chip, 8-core CPU with 4 performance cores and 4 efficiency cores , 10-core GPU ,16-core Neural Engine ,100GB/s memory bandwidth',\n",
       " 'graphics-and-video-support': 'Apple 10-core GPU',\n",
       " 'charging-and-expansion': 'Two Thunderbolt / USB 4 ports with support for: Charging, DisplayPort, Thunderbolt 3 (up to 40 Gbps), USB 3.1 Gen 2 (up to 10 Gbps)',\n",
       " 'wireless': '802.11ax Wi-Fi 6 wireless networking; IEEE 802.11a/b/g/n/ac compatible. Bluetooth 5.0 wireless technology',\n",
       " 'in-the-box': '13-inch MacBook Pro, 67W USB-C Power Adapter, USB-C Charge Cable (2 m)',\n",
       " 'warranty': 'Apple-branded hardware products and accessories contained in the original packaging (“Apple Products”) come with a one-year limited warranty. See apple.com/legal/warranty for more information. To make a warranty claim, visit support.apple.com or an Apple Authorized Service Provider in the United Arab Emirates.',\n",
       " 'height': '1.56 cm',\n",
       " 'width': '30.41 cm',\n",
       " 'depth': '21.24 cm',\n",
       " 'weight': '1.4 kg',\n",
       " '5-star': '75%',\n",
       " '4-star': '12%',\n",
       " '3-star': '3%',\n",
       " '2-star': '1%',\n",
       " '1-star': '9%'}"
      ]
     },
     "execution_count": 10,
     "metadata": {},
     "output_type": "execute_result"
    }
   ],
   "source": [
    "dataset = s.scrape()\n",
    "dataset"
   ]
  },
  {
   "cell_type": "code",
   "execution_count": null,
   "id": "6c6061dd",
   "metadata": {},
   "outputs": [],
   "source": []
  }
 ],
 "metadata": {
  "kernelspec": {
   "display_name": "Python 3 (ipykernel)",
   "language": "python",
   "name": "python3"
  },
  "language_info": {
   "codemirror_mode": {
    "name": "ipython",
    "version": 3
   },
   "file_extension": ".py",
   "mimetype": "text/x-python",
   "name": "python",
   "nbconvert_exporter": "python",
   "pygments_lexer": "ipython3",
   "version": "3.11.6"
  },
  "widgets": {
   "application/vnd.jupyter.widget-state+json": {
    "state": {},
    "version_major": 2,
    "version_minor": 0
   }
  }
 },
 "nbformat": 4,
 "nbformat_minor": 5
}
