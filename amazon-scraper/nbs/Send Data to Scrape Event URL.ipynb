{
 "cells": [
  {
   "cell_type": "code",
   "execution_count": 2,
   "id": "c3cc0ee6",
   "metadata": {},
   "outputs": [],
   "source": [
    "import requests"
   ]
  },
  {
   "cell_type": "code",
   "execution_count": 20,
   "id": "db4fca83",
   "metadata": {},
   "outputs": [
    {
     "name": "stdout",
     "output_type": "stream",
     "text": [
      "{'asin': 'http_test', 'title': 'test title #1', 'price_str': '10.69 AED '}\n"
     ]
    }
   ],
   "source": [
    "endpoint = \"http://localhost:8002/events/scrape\"\n",
    "asin = \"http_test\"\n",
    "\n",
    "r = requests.post(endpoint, json={\n",
    "    \"asin\": asin,\n",
    "    \"title\": \"test title #1\",\n",
    "    \"price_str\": \"10.69 AED \"\n",
    "})\n",
    "\n",
    "print(r.json())"
   ]
  },
  {
   "cell_type": "code",
   "execution_count": 21,
   "id": "8679f081",
   "metadata": {
    "scrolled": false
   },
   "outputs": [
    {
     "name": "stdout",
     "output_type": "stream",
     "text": [
      "[{'asin': 'http_test', 'title': 'test title #1', 'price_str': '10.69 AED '}, {'asin': 'http_test', 'title': 'test title #1', 'price_str': '10.69 AED '}, {'asin': 'http_test', 'title': 'test title #1', 'price_str': '10.69 AED '}, {'asin': 'http_test', 'title': 'test title #1', 'price_str': '10.69 AED '}, {'asin': 'http_test', 'title': 'test title #1', 'price_str': '10.69 AED '}, {'asin': 'http_test', 'title': 'test title #1', 'price_str': '10.69 AED '}, {'asin': 'http_test', 'title': 'test title #1', 'price_str': '10.69 AED '}, {'asin': 'http_test', 'title': 'test title #1', 'price_str': '10.69 AED '}, {'asin': 'http_test', 'title': 'test title #1', 'price_str': '10.69 AED '}, {'asin': 'http_test', 'title': 'test title #1', 'price_str': '10.69 AED '}, {'asin': 'http_test', 'title': 'test title #1', 'price_str': '10.69 AED '}, {'asin': 'http_test', 'title': 'test title #1', 'price_str': '10.69 AED '}, {'asin': 'http_test', 'title': 'test title #1', 'price_str': '10.69 AED '}, {'asin': 'http_test', 'title': 'test title #1', 'price_str': '10.69 AED '}]\n"
     ]
    }
   ],
   "source": [
    "endpoint2 = f\"http://localhost:8002/products/{asin}/events\"\n",
    "\n",
    "r2 = requests.get(endpoint2)\n",
    "print(r2.json())"
   ]
  },
  {
   "cell_type": "code",
   "execution_count": 24,
   "id": "64a363ce",
   "metadata": {},
   "outputs": [
    {
     "name": "stdout",
     "output_type": "stream",
     "text": [
      "{'asin': 'http_test', 'title': 'title test 123', 'price_str': '19.69 AED'}\n"
     ]
    }
   ],
   "source": [
    "base_url = \"https://81f2-2001-8f8-1735-1579-df87-b4ec-a93d-7d6c.in.ngrok.io\"\n",
    "path = \"events/scrape\"\n",
    "endpoint = f\"{base_url}/{path}\"\n",
    "\n",
    "r3 = requests.post(endpoint, json={\n",
    "    \"asin\": asin,\n",
    "    \"title\": \"title test 123\",\n",
    "    \"price_str\": \"19.69 AED\"\n",
    "})\n",
    "print(r3.json())"
   ]
  },
  {
   "cell_type": "code",
   "execution_count": null,
   "id": "2edfd4bf",
   "metadata": {},
   "outputs": [],
   "source": []
  }
 ],
 "metadata": {
  "kernelspec": {
   "display_name": "Python 3 (ipykernel)",
   "language": "python",
   "name": "python3"
  },
  "language_info": {
   "codemirror_mode": {
    "name": "ipython",
    "version": 3
   },
   "file_extension": ".py",
   "mimetype": "text/x-python",
   "name": "python",
   "nbconvert_exporter": "python",
   "pygments_lexer": "ipython3",
   "version": "3.11.1"
  }
 },
 "nbformat": 4,
 "nbformat_minor": 5
}
