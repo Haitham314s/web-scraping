{
 "cells": [
  {
   "cell_type": "code",
   "execution_count": 1,
   "id": "3e458652",
   "metadata": {
    "scrolled": false
   },
   "outputs": [
    {
     "name": "stdout",
     "output_type": "stream",
     "text": [
      "C:\\Users\\hp\\dev\\web-scraping\n"
     ]
    }
   ],
   "source": [
    "cd ../"
   ]
  },
  {
   "cell_type": "code",
   "execution_count": 2,
   "id": "7be18859",
   "metadata": {
    "scrolled": true
   },
   "outputs": [],
   "source": [
    "from app.models import Product, ProductScrapeEvent, data as models_data\n",
    "from app.crud import create_entry, create_scrape_entry, add_scrape_event\n",
    "from app.db import get_session\n",
    "from app.schema import ProductSchema, ProductScrapeEventSchema"
   ]
  },
  {
   "cell_type": "code",
   "execution_count": 3,
   "id": "8de53e47",
   "metadata": {},
   "outputs": [],
   "source": [
    "session = get_session()"
   ]
  },
  {
   "cell_type": "code",
   "execution_count": 4,
   "id": "219a2eaf",
   "metadata": {
    "scrolled": true
   },
   "outputs": [
    {
     "data": {
      "text/plain": [
       "{'asin': 'AMZNNUMBER', 'title': 'Mark 1'}"
      ]
     },
     "execution_count": 4,
     "metadata": {},
     "output_type": "execute_result"
    }
   ],
   "source": [
    "data = models_data\n",
    "data"
   ]
  },
  {
   "cell_type": "code",
   "execution_count": 5,
   "id": "8ff332cf",
   "metadata": {},
   "outputs": [
    {
     "data": {
      "text/plain": [
       "{'asin': 'AMZNNUMBER', 'title': 'Mark 1'}"
      ]
     },
     "execution_count": 5,
     "metadata": {},
     "output_type": "execute_result"
    }
   ],
   "source": [
    "product = ProductSchema(**data)\n",
    "product.dict()"
   ]
  },
  {
   "cell_type": "code",
   "execution_count": 6,
   "id": "8432749c",
   "metadata": {},
   "outputs": [
    {
     "data": {
      "text/plain": [
       "(Product(asin='AMZNNUMBER', title='Mark 1', price_str='0'),\n",
       " ProductScrapeEvent(uuid=UUID('1e7da30f-f07e-11ed-b6f8-c46516f58b27'), asin='AMZNNUMBER', title='Mark 1', price_str='0'))"
      ]
     },
     "execution_count": 6,
     "metadata": {},
     "output_type": "execute_result"
    }
   ],
   "source": [
    "add_scrape_event(product.dict(), fresh=True)"
   ]
  },
  {
   "cell_type": "code",
   "execution_count": 12,
   "id": "b96d8e45",
   "metadata": {
    "scrolled": true
   },
   "outputs": [
    {
     "name": "stdout",
     "output_type": "stream",
     "text": [
      "uuid=UUID('77878c27-f07e-11ed-adfe-c46516f58b27') asin='AMZNNUMBER' title='Mark 1'\n"
     ]
    }
   ],
   "source": [
    "from pydantic import ValidationError\n",
    "from uuid import uuid1\n",
    "\n",
    "try:\n",
    "    data[\"uuid\"] = uuid1()\n",
    "    product_event = ProductScrapeEventSchema(**data)\n",
    "    print(product_event)\n",
    "except ValidationError as e:\n",
    "    print(e.json())"
   ]
  },
  {
   "cell_type": "code",
   "execution_count": null,
   "id": "6ce87e93",
   "metadata": {},
   "outputs": [],
   "source": []
  }
 ],
 "metadata": {
  "kernelspec": {
   "display_name": "Python 3 (ipykernel)",
   "language": "python",
   "name": "python3"
  },
  "language_info": {
   "codemirror_mode": {
    "name": "ipython",
    "version": 3
   },
   "file_extension": ".py",
   "mimetype": "text/x-python",
   "name": "python",
   "nbconvert_exporter": "python",
   "pygments_lexer": "ipython3",
   "version": "3.11.1"
  }
 },
 "nbformat": 4,
 "nbformat_minor": 5
}
